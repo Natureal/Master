{
  "nbformat": 4,
  "nbformat_minor": 0,
  "metadata": {
    "colab": {
      "name": "Chen_SecondAssignment_Pattern_Recognition.ipynb",
      "provenance": [],
      "collapsed_sections": []
    },
    "language_info": {
      "codemirror_mode": {
        "name": "ipython",
        "version": 3
      },
      "file_extension": ".py",
      "mimetype": "text/x-python",
      "name": "python",
      "nbconvert_exporter": "python",
      "pygments_lexer": "ipython3",
      "version": "3.7.3"
    },
    "kernelspec": {
      "display_name": "Python 3",
      "language": "python",
      "name": "python3"
    }
  },
  "cells": [
    {
      "cell_type": "markdown",
      "metadata": {
        "colab_type": "text",
        "id": "iagHX97hxCVg"
      },
      "source": [
        "# Assignment\n",
        "\n",
        "Na\n",
        "\n",
        "Note: Once you have done the assignment, run **Print** (File menu -> Print, or `Ctrl+P`) to generate a PDF and submit it via PandA.\n",
        "\n",
        "----\n",
        "\n",
        "Consider two Gaussian distributions whose parameters are given as follows:\n",
        "\\begin{equation}\n",
        "m_1 = \\begin{bmatrix} 3 \\\\ 1 \\end{bmatrix}\n",
        ", \\;\n",
        "\\Sigma_1 = \\begin{bmatrix} 1 & 2 \\\\ 2 & 5 \\end{bmatrix}\n",
        "\\end{equation}\n",
        "\\begin{equation}\n",
        "m_2 = \\begin{bmatrix} 1 \\\\ 3 \\end{bmatrix}\n",
        ", \\;\n",
        "\\Sigma_2 = \\begin{bmatrix} 1 & 2 \\\\ 2 & 5 \\end{bmatrix}\n",
        "\\end{equation}\n",
        "\n",
        "## (1)\n",
        "\n",
        "Show the scatter plot of bi-variate random numbers (2-d samples) generated from the above two distributions (use different colors or markers so that the two distributions can be distinguished).\n",
        "\n"
      ]
    },
    {
      "cell_type": "code",
      "metadata": {
        "colab_type": "code",
        "id": "v2vnCJN_xsau",
        "outputId": "fc31ca5e-4cb9-46ba-a327-39d8a3f90fb9",
        "colab": {
          "base_uri": "https://localhost:8080/",
          "height": 269
        }
      },
      "source": [
        "import numpy as np\n",
        "import matplotlib.pyplot as plt\n",
        "\n",
        "m1 = [3, 1]\n",
        "s1 = [[1, 2], [2, 5]]\n",
        "m2 = [1, 3]\n",
        "s2 = [[1, 2], [2, 5]]\n",
        "\n",
        "N = 100\n",
        "\n",
        "x1 = np.random.multivariate_normal(m1, s1, N)\n",
        "x2 = np.random.multivariate_normal(m2, s2, N)\n",
        "plt.plot(x1[:,0], x1[:,1], 'x')\n",
        "plt.plot(x2[:,0], x2[:,1], 'o')\n",
        "plt.axis('equal')\n",
        "plt.show()"
      ],
      "execution_count": 0,
      "outputs": [
        {
          "output_type": "display_data",
          "data": {
            "image/png": "[encoded data removed]",
            "text/plain": [
              "<Figure size 432x288 with 1 Axes>"
            ]
          },
          "metadata": {
            "tags": [],
            "needs_background": "light"
          }
        }
      ]
    },
    {
      "cell_type": "markdown",
      "metadata": {
        "colab_type": "text",
        "id": "4pVlS81lxs2f"
      },
      "source": [
        "## (2) PCA\n",
        "Apply PCA to the 2-d samples `x1` and `x2` generated in (1) by assuming two distributions as a single sample set. Draw the 1st principal axis on the scatter plot in (1). (Do not use built-in function of PCA)\n"
      ]
    },
    {
      "cell_type": "markdown",
      "metadata": {
        "id": "P5fL0T9aCyPd",
        "colab_type": "text"
      },
      "source": [
        "### In order to do PCA, I tried eigendecomposition of covariance matrix of the sample set."
      ]
    },
    {
      "cell_type": "code",
      "metadata": {
        "colab_type": "code",
        "id": "EKJmuqdpw6aq",
        "outputId": "52ae9b11-b319-41de-9cb2-7f8a20cca323",
        "colab": {}
      },
      "source": [
        "# concatenate two sets into a single sample set\n",
        "x = np.concatenate((x1, x2), axis=0)\n",
        "\n",
        "# get mean values of two feature dimensionalities\n",
        "mean = np.mean(x, axis=0)\n",
        "\n",
        "# get covariance matrix by calculating X^T * X, X: decentralized x\n",
        "cov_mat = (x - mean).T.dot(x - mean) / (x.shape[0] - 1)\n",
        "print(\"Covariance Matrix: \\n {}\".format(cov_mat))\n",
        "\n",
        "# eigen decomposition\n",
        "pca_evals, pca_evecs = np.linalg.eig(cov_mat)\n",
        "print(\"eigenvaluess:\", pca_evals)\n",
        "print(\"the 1st eigenvector:\", (pca_evecs[0][0], pca_evecs[1][0]))\n",
        "print(\"the 2nd eigenvector:\", (pca_evecs[0][1], pca_evecs[1][1]))"
      ],
      "execution_count": 0,
      "outputs": [
        {
          "output_type": "stream",
          "text": [
            "Covariance Matrix: \n",
            " [[1.88675723 0.69526406]\n",
            " [0.69526406 5.90305298]]\n",
            "eigenvaluess: [1.76980511 6.0200051 ]\n",
            "the 1st eigenvector: (-0.9861456020869265, 0.1658820408742705)\n",
            "the 2nd eigenvector: (-0.1658820408742705, -0.9861456020869265)\n"
          ],
          "name": "stdout"
        }
      ]
    },
    {
      "cell_type": "markdown",
      "metadata": {
        "id": "GOAvaSFqCyPj",
        "colab_type": "text"
      },
      "source": [
        "### After getting eigenvalues and eigenvectors of the covariance matrix, the 1st principal axis could be drawn by using the first eigenvector."
      ]
    },
    {
      "cell_type": "code",
      "metadata": {
        "id": "f8ssQ68tCyPk",
        "colab_type": "code",
        "outputId": "366381cd-108a-4e4a-8db3-9074eac2aee2",
        "colab": {}
      },
      "source": [
        "# plot all data points\n",
        "plt.plot(x1[:,0], x1[:,1], 'x')\n",
        "plt.plot(x2[:,0], x2[:,1], 'o')\n",
        "axes = plt.axis()\n",
        "# draw the 1st principal axis with a red line\n",
        "plt.plot([axes[0], axes[1]], [axes[0]/pca_evecs[0][0]*pca_evecs[1][0], axes[1]/pca_evecs[0][0]*pca_evecs[1][0]], color='red')\n",
        "\n",
        "plt.axis('equal')\n",
        "plt.show()"
      ],
      "execution_count": 0,
      "outputs": [
        {
          "output_type": "display_data",
          "data": {
            "image/png": "[encoded data removed]",
            "text/plain": [
              "<Figure size 432x288 with 1 Axes>"
            ]
          },
          "metadata": {
            "tags": [],
            "needs_background": "light"
          }
        }
      ]
    },
    {
      "cell_type": "markdown",
      "metadata": {
        "colab_type": "text",
        "id": "7SuYHlnzxzKD"
      },
      "source": [
        "## (3) LDA\n",
        "Apply Fisher LDA to the 2-d samples  `x1` and `x2` generated in (1) by assuming the two distributions are two different classes. Draw the calculated axis on the scatter plot. (Do not use built-in function of LDA)"
      ]
    },
    {
      "cell_type": "markdown",
      "metadata": {
        "id": "10LsWMnkCyPp",
        "colab_type": "text"
      },
      "source": [
        "### Computing the 2-d mean vectors of the two classes (x1 and x2):"
      ]
    },
    {
      "cell_type": "code",
      "metadata": {
        "colab_type": "code",
        "id": "vKeohQwFx20S",
        "outputId": "48829aab-de40-476a-af65-b738f25de91d",
        "colab": {}
      },
      "source": [
        "mean1 = np.mean(x1, axis=0)\n",
        "mean2 = np.mean(x2, axis=0)\n",
        "print('Mean vectors: {}, {}'.format(mean1, mean2))"
      ],
      "execution_count": 0,
      "outputs": [
        {
          "output_type": "stream",
          "text": [
            "Mean vectors: [3.06380702 1.04969623], [1.12925415 3.31190934]\n"
          ],
          "name": "stdout"
        }
      ]
    },
    {
      "cell_type": "markdown",
      "metadata": {
        "id": "05BispOdCyPt",
        "colab_type": "text"
      },
      "source": [
        "### Computing the Scatter Matrices: the within-class scatter matrix $S_{W}$ and the between-class scatter matrix $S_{B}$"
      ]
    },
    {
      "cell_type": "code",
      "metadata": {
        "id": "SCXgjJwQCyPu",
        "colab_type": "code",
        "outputId": "0063f857-062d-4712-880d-48a8b3ea0423",
        "colab": {}
      },
      "source": [
        "# S_{W} is equal to the sigma of Si, in which Si denotes the scatter matrix for every class (x1 and x2)\n",
        "# Actually, Si is the sum of mean square differences\n",
        "mean_list = [mean1, mean2]\n",
        "x_list = [x1, x2]\n",
        "SW = np.zeros((2, 2))\n",
        "for i, mean in zip(range(2), mean_list):\n",
        "    scatter_matrix = np.zeros((2, 2))\n",
        "    for item in x_list[i]:\n",
        "        item_v = item.reshape(2, 1)\n",
        "        mean_v = mean.reshape(2, 1)\n",
        "        scatter_matrix += (item_v - mean_v).dot((item_v - mean_v).T)\n",
        "    SW += scatter_matrix\n",
        "print(\"The within-class scatter matrix: \\n{}\".format(SW))\n",
        "\n",
        "print(\"------------------------------------------\")\n",
        "# S_{B} = Simga(Ni * (mi - m) * (mi - m)^T), where m is the overall mean, mi is the mean for class i.\n",
        "M = np.mean(x, axis=0)\n",
        "SB = np.zeros((2, 2))\n",
        "for i, mean in zip(range(2), mean_list):\n",
        "    Ni = x_list[i].shape[0]\n",
        "    mean_v = mean.reshape(2, 1)\n",
        "    M_v = M.reshape(2, 1)\n",
        "    SB += Ni * (mean_v - M_v).dot((mean_v - M_v).T)\n",
        "print(\"The between-class scatter matrix: \\n{}\".format(SB))\n"
      ],
      "execution_count": 0,
      "outputs": [
        {
          "output_type": "stream",
          "text": [
            "The within-class scatter matrix: \n",
            "[[188.3399484  357.17609149]\n",
            " [357.17609149 918.82713497]]\n",
            "------------------------------------------\n",
            "The between-class scatter matrix: \n",
            "[[ 187.12474131 -218.81854415]\n",
            " [-218.81854415  255.88040859]]\n"
          ],
          "name": "stdout"
        }
      ]
    },
    {
      "cell_type": "markdown",
      "metadata": {
        "id": "dWvXqcXyCyPy",
        "colab_type": "text"
      },
      "source": [
        "### Computing eigenvalues and eigenvectors for the matrix $S_{W}^{-1}S_{B}$"
      ]
    },
    {
      "cell_type": "code",
      "metadata": {
        "id": "t2v9WuMsCyPy",
        "colab_type": "code",
        "outputId": "4e9a6009-da77-48d4-a2dd-114d62357a7a",
        "colab": {}
      },
      "source": [
        "lda_evals, lda_evecs = np.linalg.eig(np.linalg.inv(SW).dot(SB))\n",
        "# Sorting decreasingly with respect to eigenvalue\n",
        "idx = lda_evals.argsort()[::-1]\n",
        "lda_evals = lda_evals[idx]\n",
        "lda_evecs = lda_evecs[:, idx]\n",
        "\n",
        "for i in range(len(lda_evals)):\n",
        "    lda_evec = lda_evecs[:, i]\n",
        "    print(\"No.{}, Eigenvalue:{}, eigenvector:{}\".format(i, lda_evals[i], lda_evec))"
      ],
      "execution_count": 0,
      "outputs": [
        {
          "output_type": "stream",
          "text": [
            "No.0, Eigenvalue:8.277602137047728, eigenvector:[ 0.91798958 -0.39660451]\n",
            "No.1, Eigenvalue:4.440892098500626e-16, eigenvector:[0.76000094 0.64992197]\n"
          ],
          "name": "stdout"
        }
      ]
    },
    {
      "cell_type": "markdown",
      "metadata": {
        "id": "BWvIA2hpCyP3",
        "colab_type": "text"
      },
      "source": [
        "Here, we can see the second eigenvalue is very close to zero, meaning less informative. <br> \n",
        "Thus the number of discriminants is equal to one in this task. (the first eigenvector)"
      ]
    },
    {
      "cell_type": "markdown",
      "metadata": {
        "id": "bwweZf8ZCyP4",
        "colab_type": "text"
      },
      "source": [
        "### Draw the calculated axis based on the 1st eigenvector:"
      ]
    },
    {
      "cell_type": "code",
      "metadata": {
        "id": "TE0OZ0utCyP5",
        "colab_type": "code",
        "outputId": "014d7468-2184-4747-eb10-46317e6ff230",
        "colab": {}
      },
      "source": [
        "plt.plot(x1[:,0], x1[:,1], 'x')\n",
        "plt.plot(x2[:,0], x2[:,1], 'o')\n",
        "plt.plot([2*axes[0], axes[1]], [2*axes[0]/lda_evecs[0][0]*lda_evecs[1][0], axes[1]/lda_evecs[0][0]*lda_evecs[1][0]], color='green')\n",
        "\n",
        "plt.axis('equal')\n",
        "plt.show()"
      ],
      "execution_count": 0,
      "outputs": [
        {
          "output_type": "display_data",
          "data": {
            "image/png": "[encoded data removed]",
            "text/plain": [
              "<Figure size 432x288 with 1 Axes>"
            ]
          },
          "metadata": {
            "tags": [],
            "needs_background": "light"
          }
        }
      ]
    },
    {
      "cell_type": "markdown",
      "metadata": {
        "colab_type": "text",
        "id": "axELjz64x3HV"
      },
      "source": [
        "## (4)\n",
        "Show the 1-d histograms of the sample data transformed by the calculated axes in (2) and (3)."
      ]
    },
    {
      "cell_type": "markdown",
      "metadata": {
        "id": "E7UJXmdyCyP-",
        "colab_type": "text"
      },
      "source": [
        "### Transforming data using PCA"
      ]
    },
    {
      "cell_type": "code",
      "metadata": {
        "id": "ur89TRhqCyP-",
        "colab_type": "code",
        "outputId": "fbeb53fa-4301-48d9-9aa2-d925a10ac9f4",
        "colab": {}
      },
      "source": [
        "new_x = np.matmul(x, pca_evecs[:][0])\n",
        "data_x = np.concatenate((new_x[: 100].reshape(100, 1), new_x[100: 200].reshape(100, 1)), axis=1)\n",
        "plt.hist(data_x, bins=20, label=['x1', 'x2'])\n",
        "plt.xlabel('the 1st principal axis')\n",
        "plt.ylabel('data transformed by the axis')\n",
        "plt.title('data distribution after PCA')\n",
        "plt.legend()\n",
        "plt.show()"
      ],
      "execution_count": 0,
      "outputs": [
        {
          "output_type": "display_data",
          "data": {
            "image/png": "[encoded data removed]",
            "text/plain": [
              "<Figure size 432x288 with 1 Axes>"
            ]
          },
          "metadata": {
            "tags": [],
            "needs_background": "light"
          }
        }
      ]
    },
    {
      "cell_type": "markdown",
      "metadata": {
        "id": "dQqhu8IQCyQC",
        "colab_type": "text"
      },
      "source": [
        "### Transforming data using LDA"
      ]
    },
    {
      "cell_type": "code",
      "metadata": {
        "id": "59StkA4uCyQD",
        "colab_type": "code",
        "outputId": "aec68f67-7bc2-4d26-c616-f1cbbcd266bb",
        "colab": {}
      },
      "source": [
        "w = lda_evecs[:, 0].reshape(2, 1)\n",
        "x_t = x.dot(w)\n",
        "data_x_t = np.concatenate((x_t[: 100].reshape(100, 1), x_t[100: 200].reshape(100, 1)), axis=1)\n",
        "plt.hist(data_x_t, bins=20, label=['x1', 'x2'])\n",
        "plt.xlabel('LDA axis')\n",
        "plt.ylabel('data transformed by the axis')\n",
        "plt.title('data distribution after LDA')\n",
        "plt.legend()\n",
        "plt.show()"
      ],
      "execution_count": 0,
      "outputs": [
        {
          "output_type": "display_data",
          "data": {
            "image/png": "[encoded data removed]",
            "text/plain": [
              "<Figure size 432x288 with 1 Axes>"
            ]
          },
          "metadata": {
            "tags": [],
            "needs_background": "light"
          }
        }
      ]
    },
    {
      "cell_type": "markdown",
      "metadata": {
        "colab_type": "text",
        "id": "drypGvlEx9bG"
      },
      "source": [
        "## Discussions\n"
      ]
    },
    {
      "cell_type": "markdown",
      "metadata": {
        "id": "2I3S6cJ-CyQH",
        "colab_type": "text"
      },
      "source": [
        "Here, we can see the difference between PCA and LDA obviously. <br>\n",
        "By using PCA, we could get a more efficient representation of the data set. Formally, PCA is a dimension-reduction tool that helps us convert multiple correlated variables into a set of linearly uncorrelated variables whose size often becomes smaller. <br>\n",
        "On the other hand, as a supervised method, LDA is aimed at finding a linear combination of features that separates two or more classes of objects, which could be used for linear classification as well as dimensionality reduction."
      ]
    }
  ]
}